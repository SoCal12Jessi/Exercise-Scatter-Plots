{
 "cells": [
  {
   "cell_type": "markdown",
   "id": "ba72456d",
   "metadata": {
    "papermill": {
     "duration": 0.010328,
     "end_time": "2022-10-09T19:35:11.966244",
     "exception": false,
     "start_time": "2022-10-09T19:35:11.955916",
     "status": "completed"
    },
    "tags": []
   },
   "source": [
    "**This notebook is an exercise in the [Data Visualization](https://www.kaggle.com/learn/data-visualization) course.  You can reference the tutorial at [this link](https://www.kaggle.com/alexisbcook/scatter-plots).**\n",
    "\n",
    "---\n"
   ]
  },
  {
   "cell_type": "markdown",
   "id": "81218bd0",
   "metadata": {
    "papermill": {
     "duration": 0.009013,
     "end_time": "2022-10-09T19:35:11.984322",
     "exception": false,
     "start_time": "2022-10-09T19:35:11.975309",
     "status": "completed"
    },
    "tags": []
   },
   "source": [
    "In this exercise, you will use your new knowledge to propose a solution to a real-world scenario.  To succeed, you will need to import data into Python, answer questions using the data, and generate **scatter plots** to understand patterns in the data.\n",
    "\n",
    "## Scenario\n",
    "\n",
    "You work for a major candy producer, and your goal is to write a report that your company can use to guide the design of its next product.  Soon after starting your research, you stumble across this [very interesting dataset](https://fivethirtyeight.com/features/the-ultimate-halloween-candy-power-ranking/) containing results from a fun survey to crowdsource favorite candies.\n",
    "\n",
    "## Setup\n",
    "\n",
    "Run the next cell to import and configure the Python libraries that you need to complete the exercise."
   ]
  },
  {
   "cell_type": "code",
   "execution_count": 1,
   "id": "7aee49f2",
   "metadata": {
    "execution": {
     "iopub.execute_input": "2022-10-09T19:35:12.004628Z",
     "iopub.status.busy": "2022-10-09T19:35:12.003556Z",
     "iopub.status.idle": "2022-10-09T19:35:13.194939Z",
     "shell.execute_reply": "2022-10-09T19:35:13.193521Z"
    },
    "papermill": {
     "duration": 1.205096,
     "end_time": "2022-10-09T19:35:13.198246",
     "exception": false,
     "start_time": "2022-10-09T19:35:11.993150",
     "status": "completed"
    },
    "tags": []
   },
   "outputs": [
    {
     "name": "stdout",
     "output_type": "stream",
     "text": [
      "Setup Complete\n"
     ]
    }
   ],
   "source": [
    "import pandas as pd\n",
    "pd.plotting.register_matplotlib_converters()\n",
    "import matplotlib.pyplot as plt\n",
    "%matplotlib inline\n",
    "import seaborn as sns\n",
    "print(\"Setup Complete\")"
   ]
  },
  {
   "cell_type": "markdown",
   "id": "6db5a70f",
   "metadata": {
    "papermill": {
     "duration": 0.008486,
     "end_time": "2022-10-09T19:35:13.215848",
     "exception": false,
     "start_time": "2022-10-09T19:35:13.207362",
     "status": "completed"
    },
    "tags": []
   },
   "source": [
    "The questions below will give you feedback on your work. Run the following cell to set up our feedback system."
   ]
  },
  {
   "cell_type": "code",
   "execution_count": 2,
   "id": "8dc8eccf",
   "metadata": {
    "execution": {
     "iopub.execute_input": "2022-10-09T19:35:13.235468Z",
     "iopub.status.busy": "2022-10-09T19:35:13.235067Z",
     "iopub.status.idle": "2022-10-09T19:35:13.304430Z",
     "shell.execute_reply": "2022-10-09T19:35:13.302892Z"
    },
    "papermill": {
     "duration": 0.082683,
     "end_time": "2022-10-09T19:35:13.307475",
     "exception": false,
     "start_time": "2022-10-09T19:35:13.224792",
     "status": "completed"
    },
    "tags": []
   },
   "outputs": [
    {
     "name": "stdout",
     "output_type": "stream",
     "text": [
      "Setup Complete\n"
     ]
    }
   ],
   "source": [
    "# Set up code checking\n",
    "import os\n",
    "if not os.path.exists(\"../input/candy.csv\"):\n",
    "    os.symlink(\"../input/data-for-datavis/candy.csv\", \"../input/candy.csv\") \n",
    "from learntools.core import binder\n",
    "binder.bind(globals())\n",
    "from learntools.data_viz_to_coder.ex4 import *\n",
    "print(\"Setup Complete\")"
   ]
  },
  {
   "cell_type": "markdown",
   "id": "0cadc15a",
   "metadata": {
    "papermill": {
     "duration": 0.008742,
     "end_time": "2022-10-09T19:35:13.327158",
     "exception": false,
     "start_time": "2022-10-09T19:35:13.318416",
     "status": "completed"
    },
    "tags": []
   },
   "source": [
    "## Step 1: Load the Data\n",
    "\n",
    "Read the candy data file into `candy_data`.  Use the `\"id\"` column to label the rows."
   ]
  },
  {
   "cell_type": "code",
   "execution_count": 3,
   "id": "bb99b2a0",
   "metadata": {
    "execution": {
     "iopub.execute_input": "2022-10-09T19:35:13.346942Z",
     "iopub.status.busy": "2022-10-09T19:35:13.346526Z",
     "iopub.status.idle": "2022-10-09T19:35:13.362937Z",
     "shell.execute_reply": "2022-10-09T19:35:13.361849Z"
    },
    "papermill": {
     "duration": 0.028925,
     "end_time": "2022-10-09T19:35:13.365355",
     "exception": false,
     "start_time": "2022-10-09T19:35:13.336430",
     "status": "completed"
    },
    "tags": []
   },
   "outputs": [
    {
     "data": {
      "application/javascript": [
       "parent.postMessage({\"jupyterEvent\": \"custom.exercise_interaction\", \"data\": {\"outcomeType\": 1, \"valueTowardsCompletion\": 0.3333333333333333, \"interactionType\": 1, \"questionType\": 1, \"questionId\": \"1_LoadData\", \"learnToolsVersion\": \"0.3.4\", \"failureMessage\": \"\", \"exceptionClass\": \"\", \"trace\": \"\"}}, \"*\")"
      ],
      "text/plain": [
       "<IPython.core.display.Javascript object>"
      ]
     },
     "metadata": {},
     "output_type": "display_data"
    },
    {
     "data": {
      "text/markdown": [
       "<span style=\"color:#33cc33\">Correct</span>"
      ],
      "text/plain": [
       "Correct"
      ]
     },
     "metadata": {},
     "output_type": "display_data"
    }
   ],
   "source": [
    "# Path of the file to read\n",
    "candy_filepath = \"../input/candy.csv\"\n",
    "\n",
    "# Fill in the line below to read the file into a variable candy_data\n",
    "candy_data = pd.read_csv(candy_filepath, index_col=\"id\")\n",
    "\n",
    "# Run the line below with no changes to check that you've loaded the data correctly\n",
    "step_1.check()"
   ]
  },
  {
   "cell_type": "code",
   "execution_count": 4,
   "id": "abf52ee1",
   "metadata": {
    "execution": {
     "iopub.execute_input": "2022-10-09T19:35:13.385596Z",
     "iopub.status.busy": "2022-10-09T19:35:13.385172Z",
     "iopub.status.idle": "2022-10-09T19:35:13.390114Z",
     "shell.execute_reply": "2022-10-09T19:35:13.388946Z"
    },
    "papermill": {
     "duration": 0.017941,
     "end_time": "2022-10-09T19:35:13.392496",
     "exception": false,
     "start_time": "2022-10-09T19:35:13.374555",
     "status": "completed"
    },
    "tags": []
   },
   "outputs": [],
   "source": [
    "# Lines below will give you a hint or solution code\n",
    "#step_1.hint()\n",
    "#step_1.solution()"
   ]
  },
  {
   "cell_type": "markdown",
   "id": "b2a8a392",
   "metadata": {
    "papermill": {
     "duration": 0.009064,
     "end_time": "2022-10-09T19:35:13.411988",
     "exception": false,
     "start_time": "2022-10-09T19:35:13.402924",
     "status": "completed"
    },
    "tags": []
   },
   "source": [
    "## Step 2: Review the data\n",
    "\n",
    "Use a Python command to print the first five rows of the data."
   ]
  },
  {
   "cell_type": "code",
   "execution_count": 5,
   "id": "d70ae33e",
   "metadata": {
    "execution": {
     "iopub.execute_input": "2022-10-09T19:35:13.432697Z",
     "iopub.status.busy": "2022-10-09T19:35:13.432308Z",
     "iopub.status.idle": "2022-10-09T19:35:13.455399Z",
     "shell.execute_reply": "2022-10-09T19:35:13.454293Z"
    },
    "papermill": {
     "duration": 0.036459,
     "end_time": "2022-10-09T19:35:13.457909",
     "exception": false,
     "start_time": "2022-10-09T19:35:13.421450",
     "status": "completed"
    },
    "tags": []
   },
   "outputs": [
    {
     "data": {
      "text/html": [
       "<div>\n",
       "<style scoped>\n",
       "    .dataframe tbody tr th:only-of-type {\n",
       "        vertical-align: middle;\n",
       "    }\n",
       "\n",
       "    .dataframe tbody tr th {\n",
       "        vertical-align: top;\n",
       "    }\n",
       "\n",
       "    .dataframe thead th {\n",
       "        text-align: right;\n",
       "    }\n",
       "</style>\n",
       "<table border=\"1\" class=\"dataframe\">\n",
       "  <thead>\n",
       "    <tr style=\"text-align: right;\">\n",
       "      <th></th>\n",
       "      <th>competitorname</th>\n",
       "      <th>chocolate</th>\n",
       "      <th>fruity</th>\n",
       "      <th>caramel</th>\n",
       "      <th>peanutyalmondy</th>\n",
       "      <th>nougat</th>\n",
       "      <th>crispedricewafer</th>\n",
       "      <th>hard</th>\n",
       "      <th>bar</th>\n",
       "      <th>pluribus</th>\n",
       "      <th>sugarpercent</th>\n",
       "      <th>pricepercent</th>\n",
       "      <th>winpercent</th>\n",
       "    </tr>\n",
       "    <tr>\n",
       "      <th>id</th>\n",
       "      <th></th>\n",
       "      <th></th>\n",
       "      <th></th>\n",
       "      <th></th>\n",
       "      <th></th>\n",
       "      <th></th>\n",
       "      <th></th>\n",
       "      <th></th>\n",
       "      <th></th>\n",
       "      <th></th>\n",
       "      <th></th>\n",
       "      <th></th>\n",
       "      <th></th>\n",
       "    </tr>\n",
       "  </thead>\n",
       "  <tbody>\n",
       "    <tr>\n",
       "      <th>0</th>\n",
       "      <td>100 Grand</td>\n",
       "      <td>Yes</td>\n",
       "      <td>No</td>\n",
       "      <td>Yes</td>\n",
       "      <td>No</td>\n",
       "      <td>No</td>\n",
       "      <td>Yes</td>\n",
       "      <td>No</td>\n",
       "      <td>Yes</td>\n",
       "      <td>No</td>\n",
       "      <td>0.732</td>\n",
       "      <td>0.860</td>\n",
       "      <td>66.971725</td>\n",
       "    </tr>\n",
       "    <tr>\n",
       "      <th>1</th>\n",
       "      <td>3 Musketeers</td>\n",
       "      <td>Yes</td>\n",
       "      <td>No</td>\n",
       "      <td>No</td>\n",
       "      <td>No</td>\n",
       "      <td>Yes</td>\n",
       "      <td>No</td>\n",
       "      <td>No</td>\n",
       "      <td>Yes</td>\n",
       "      <td>No</td>\n",
       "      <td>0.604</td>\n",
       "      <td>0.511</td>\n",
       "      <td>67.602936</td>\n",
       "    </tr>\n",
       "    <tr>\n",
       "      <th>2</th>\n",
       "      <td>Air Heads</td>\n",
       "      <td>No</td>\n",
       "      <td>Yes</td>\n",
       "      <td>No</td>\n",
       "      <td>No</td>\n",
       "      <td>No</td>\n",
       "      <td>No</td>\n",
       "      <td>No</td>\n",
       "      <td>No</td>\n",
       "      <td>No</td>\n",
       "      <td>0.906</td>\n",
       "      <td>0.511</td>\n",
       "      <td>52.341465</td>\n",
       "    </tr>\n",
       "    <tr>\n",
       "      <th>3</th>\n",
       "      <td>Almond Joy</td>\n",
       "      <td>Yes</td>\n",
       "      <td>No</td>\n",
       "      <td>No</td>\n",
       "      <td>Yes</td>\n",
       "      <td>No</td>\n",
       "      <td>No</td>\n",
       "      <td>No</td>\n",
       "      <td>Yes</td>\n",
       "      <td>No</td>\n",
       "      <td>0.465</td>\n",
       "      <td>0.767</td>\n",
       "      <td>50.347546</td>\n",
       "    </tr>\n",
       "    <tr>\n",
       "      <th>4</th>\n",
       "      <td>Baby Ruth</td>\n",
       "      <td>Yes</td>\n",
       "      <td>No</td>\n",
       "      <td>Yes</td>\n",
       "      <td>Yes</td>\n",
       "      <td>Yes</td>\n",
       "      <td>No</td>\n",
       "      <td>No</td>\n",
       "      <td>Yes</td>\n",
       "      <td>No</td>\n",
       "      <td>0.604</td>\n",
       "      <td>0.767</td>\n",
       "      <td>56.914547</td>\n",
       "    </tr>\n",
       "  </tbody>\n",
       "</table>\n",
       "</div>"
      ],
      "text/plain": [
       "   competitorname chocolate fruity caramel peanutyalmondy nougat  \\\n",
       "id                                                                 \n",
       "0       100 Grand       Yes     No     Yes             No     No   \n",
       "1    3 Musketeers       Yes     No      No             No    Yes   \n",
       "2       Air Heads        No    Yes      No             No     No   \n",
       "3      Almond Joy       Yes     No      No            Yes     No   \n",
       "4       Baby Ruth       Yes     No     Yes            Yes    Yes   \n",
       "\n",
       "   crispedricewafer hard  bar pluribus  sugarpercent  pricepercent  winpercent  \n",
       "id                                                                              \n",
       "0               Yes   No  Yes       No         0.732         0.860   66.971725  \n",
       "1                No   No  Yes       No         0.604         0.511   67.602936  \n",
       "2                No   No   No       No         0.906         0.511   52.341465  \n",
       "3                No   No  Yes       No         0.465         0.767   50.347546  \n",
       "4                No   No  Yes       No         0.604         0.767   56.914547  "
      ]
     },
     "execution_count": 5,
     "metadata": {},
     "output_type": "execute_result"
    }
   ],
   "source": [
    "# Print the first five rows of the data\n",
    "candy_data.head()\n",
    "# Your code here"
   ]
  },
  {
   "cell_type": "markdown",
   "id": "221ea49c",
   "metadata": {
    "papermill": {
     "duration": 0.009231,
     "end_time": "2022-10-09T19:35:13.476901",
     "exception": false,
     "start_time": "2022-10-09T19:35:13.467670",
     "status": "completed"
    },
    "tags": []
   },
   "source": [
    "The dataset contains 83 rows, where each corresponds to a different candy bar.  There are 13 columns:\n",
    "- `'competitorname'` contains the name of the candy bar. \n",
    "- the next **9** columns (from `'chocolate'` to `'pluribus'`) describe the candy.  For instance, rows with chocolate candies have `\"Yes\"` in the `'chocolate'` column (and candies without chocolate have `\"No\"` in the same column).\n",
    "- `'sugarpercent'` provides some indication of the amount of sugar, where higher values signify higher sugar content.\n",
    "- `'pricepercent'` shows the price per unit, relative to the other candies in the dataset.\n",
    "- `'winpercent'` is calculated from the survey results; higher values indicate that the candy was more popular with survey respondents.\n",
    "\n",
    "Use the first five rows of the data to answer the questions below."
   ]
  },
  {
   "cell_type": "code",
   "execution_count": 6,
   "id": "42033d14",
   "metadata": {
    "execution": {
     "iopub.execute_input": "2022-10-09T19:35:13.498125Z",
     "iopub.status.busy": "2022-10-09T19:35:13.497695Z",
     "iopub.status.idle": "2022-10-09T19:35:13.507414Z",
     "shell.execute_reply": "2022-10-09T19:35:13.506242Z"
    },
    "papermill": {
     "duration": 0.023444,
     "end_time": "2022-10-09T19:35:13.510104",
     "exception": false,
     "start_time": "2022-10-09T19:35:13.486660",
     "status": "completed"
    },
    "tags": []
   },
   "outputs": [
    {
     "data": {
      "application/javascript": [
       "parent.postMessage({\"jupyterEvent\": \"custom.exercise_interaction\", \"data\": {\"outcomeType\": 1, \"valueTowardsCompletion\": 0.3333333333333333, \"interactionType\": 1, \"questionType\": 1, \"questionId\": \"2_ReviewData\", \"learnToolsVersion\": \"0.3.4\", \"failureMessage\": \"\", \"exceptionClass\": \"\", \"trace\": \"\"}}, \"*\")"
      ],
      "text/plain": [
       "<IPython.core.display.Javascript object>"
      ]
     },
     "metadata": {},
     "output_type": "display_data"
    },
    {
     "data": {
      "text/markdown": [
       "<span style=\"color:#33cc33\">Correct</span>"
      ],
      "text/plain": [
       "Correct"
      ]
     },
     "metadata": {},
     "output_type": "display_data"
    }
   ],
   "source": [
    "# Fill in the line below: Which candy was more popular with survey respondents:\n",
    "# '3 Musketeers' or 'Almond Joy'?  (Please enclose your answer in single quotes.)\n",
    "more_popular = \"3 Musketeers\"\n",
    "\n",
    "# Fill in the line below: Which candy has higher sugar content: 'Air Heads'\n",
    "# or 'Baby Ruth'? (Please enclose your answer in single quotes.)\n",
    "more_sugar = \"Air Heads\"\n",
    "\n",
    "# Check your answers\n",
    "step_2.check()"
   ]
  },
  {
   "cell_type": "code",
   "execution_count": 7,
   "id": "7787a73f",
   "metadata": {
    "execution": {
     "iopub.execute_input": "2022-10-09T19:35:13.531579Z",
     "iopub.status.busy": "2022-10-09T19:35:13.531190Z",
     "iopub.status.idle": "2022-10-09T19:35:13.535250Z",
     "shell.execute_reply": "2022-10-09T19:35:13.534310Z"
    },
    "papermill": {
     "duration": 0.01744,
     "end_time": "2022-10-09T19:35:13.537350",
     "exception": false,
     "start_time": "2022-10-09T19:35:13.519910",
     "status": "completed"
    },
    "tags": []
   },
   "outputs": [],
   "source": [
    "# Lines below will give you a hint or solution code\n",
    "#step_2.hint()\n",
    "#step_2.solution()"
   ]
  },
  {
   "cell_type": "markdown",
   "id": "f09ee5ca",
   "metadata": {
    "papermill": {
     "duration": 0.009617,
     "end_time": "2022-10-09T19:35:13.558007",
     "exception": false,
     "start_time": "2022-10-09T19:35:13.548390",
     "status": "completed"
    },
    "tags": []
   },
   "source": [
    "## Step 3: The role of sugar\n",
    "\n",
    "Do people tend to prefer candies with higher sugar content?  \n",
    "\n",
    "#### Part A\n",
    "\n",
    "Create a scatter plot that shows the relationship between `'sugarpercent'` (on the horizontal x-axis) and `'winpercent'` (on the vertical y-axis).  _Don't add a regression line just yet -- you'll do that in the next step!_"
   ]
  },
  {
   "cell_type": "code",
   "execution_count": 8,
   "id": "aa64d895",
   "metadata": {
    "execution": {
     "iopub.execute_input": "2022-10-09T19:35:13.580988Z",
     "iopub.status.busy": "2022-10-09T19:35:13.580597Z",
     "iopub.status.idle": "2022-10-09T19:35:13.894553Z",
     "shell.execute_reply": "2022-10-09T19:35:13.893418Z"
    },
    "papermill": {
     "duration": 0.328825,
     "end_time": "2022-10-09T19:35:13.897181",
     "exception": false,
     "start_time": "2022-10-09T19:35:13.568356",
     "status": "completed"
    },
    "tags": []
   },
   "outputs": [
    {
     "data": {
      "application/javascript": [
       "parent.postMessage({\"jupyterEvent\": \"custom.exercise_interaction\", \"data\": {\"outcomeType\": 1, \"valueTowardsCompletion\": 0.3333333333333333, \"interactionType\": 1, \"questionType\": 2, \"questionId\": \"3.1_PlotBlueScatter\", \"learnToolsVersion\": \"0.3.4\", \"failureMessage\": \"\", \"exceptionClass\": \"\", \"trace\": \"\"}}, \"*\")"
      ],
      "text/plain": [
       "<IPython.core.display.Javascript object>"
      ]
     },
     "metadata": {},
     "output_type": "display_data"
    },
    {
     "data": {
      "text/markdown": [
       "<span style=\"color:#33cc33\">Correct</span>"
      ],
      "text/plain": [
       "Correct"
      ]
     },
     "metadata": {},
     "output_type": "display_data"
    },
    {
     "data": {
      "image/png": "[encoded data removed]",
      "text/plain": [
       "<Figure size 432x288 with 1 Axes>"
      ]
     },
     "metadata": {
      "needs_background": "light"
     },
     "output_type": "display_data"
    }
   ],
   "source": [
    "# Scatter plot showing the relationship between 'sugarpercent' and 'winpercent'\n",
    "sns.scatterplot(x=candy_data['sugarpercent'], y=candy_data['winpercent'])\n",
    "# Your code here\n",
    "\n",
    "# Check your answer\n",
    "step_3.a.check()"
   ]
  },
  {
   "cell_type": "code",
   "execution_count": 9,
   "id": "4a18ab8a",
   "metadata": {
    "execution": {
     "iopub.execute_input": "2022-10-09T19:35:13.920901Z",
     "iopub.status.busy": "2022-10-09T19:35:13.919780Z",
     "iopub.status.idle": "2022-10-09T19:35:13.924307Z",
     "shell.execute_reply": "2022-10-09T19:35:13.923479Z"
    },
    "papermill": {
     "duration": 0.018255,
     "end_time": "2022-10-09T19:35:13.926633",
     "exception": false,
     "start_time": "2022-10-09T19:35:13.908378",
     "status": "completed"
    },
    "tags": []
   },
   "outputs": [],
   "source": [
    "# Lines below will give you a hint or solution code\n",
    "#step_3.a.hint()\n",
    "#step_3.a.solution_plot()"
   ]
  },
  {
   "cell_type": "markdown",
   "id": "e2150d2f",
   "metadata": {
    "papermill": {
     "duration": 0.010228,
     "end_time": "2022-10-09T19:35:13.947981",
     "exception": false,
     "start_time": "2022-10-09T19:35:13.937753",
     "status": "completed"
    },
    "tags": []
   },
   "source": [
    "#### Part B\n",
    "\n",
    "Does the scatter plot show a **strong** correlation between the two variables?  If so, are candies with more sugar relatively more or less popular with the survey respondents?"
   ]
  },
  {
   "cell_type": "code",
   "execution_count": 10,
   "id": "aa815eba",
   "metadata": {
    "execution": {
     "iopub.execute_input": "2022-10-09T19:35:13.971812Z",
     "iopub.status.busy": "2022-10-09T19:35:13.971364Z",
     "iopub.status.idle": "2022-10-09T19:35:13.976769Z",
     "shell.execute_reply": "2022-10-09T19:35:13.975617Z"
    },
    "papermill": {
     "duration": 0.020095,
     "end_time": "2022-10-09T19:35:13.979425",
     "exception": false,
     "start_time": "2022-10-09T19:35:13.959330",
     "status": "completed"
    },
    "tags": []
   },
   "outputs": [],
   "source": [
    "#step_3.b.hint()"
   ]
  },
  {
   "cell_type": "code",
   "execution_count": 11,
   "id": "7efdc2dd",
   "metadata": {
    "execution": {
     "iopub.execute_input": "2022-10-09T19:35:14.002381Z",
     "iopub.status.busy": "2022-10-09T19:35:14.001951Z",
     "iopub.status.idle": "2022-10-09T19:35:14.010699Z",
     "shell.execute_reply": "2022-10-09T19:35:14.009630Z"
    },
    "papermill": {
     "duration": 0.022962,
     "end_time": "2022-10-09T19:35:14.013058",
     "exception": false,
     "start_time": "2022-10-09T19:35:13.990096",
     "status": "completed"
    },
    "tags": []
   },
   "outputs": [
    {
     "data": {
      "application/javascript": [
       "parent.postMessage({\"jupyterEvent\": \"custom.exercise_interaction\", \"data\": {\"interactionType\": 3, \"questionType\": 4, \"questionId\": \"3.2_ThinkBlueScatter\", \"learnToolsVersion\": \"0.3.4\", \"valueTowardsCompletion\": 0.0, \"failureMessage\": \"\", \"exceptionClass\": \"\", \"trace\": \"\", \"outcomeType\": 4}}, \"*\")"
      ],
      "text/plain": [
       "<IPython.core.display.Javascript object>"
      ]
     },
     "metadata": {},
     "output_type": "display_data"
    },
    {
     "data": {
      "text/markdown": [
       "<span style=\"color:#33cc99\">Solution:</span> The scatter plot does not show a strong correlation between the two variables. Since there is no clear relationship between the two variables, this tells us that sugar content does not play a strong role in candy popularity."
      ],
      "text/plain": [
       "Solution: The scatter plot does not show a strong correlation between the two variables. Since there is no clear relationship between the two variables, this tells us that sugar content does not play a strong role in candy popularity."
      ]
     },
     "metadata": {},
     "output_type": "display_data"
    }
   ],
   "source": [
    "# Check your answer (Run this code cell to receive credit!)\n",
    "step_3.b.solution()"
   ]
  },
  {
   "cell_type": "markdown",
   "id": "7df5aae0",
   "metadata": {
    "papermill": {
     "duration": 0.010204,
     "end_time": "2022-10-09T19:35:14.033748",
     "exception": false,
     "start_time": "2022-10-09T19:35:14.023544",
     "status": "completed"
    },
    "tags": []
   },
   "source": [
    "## Step 4: Take a closer look\n",
    "\n",
    "#### Part A\n",
    "\n",
    "Create the same scatter plot you created in **Step 3**, but now with a regression line!"
   ]
  },
  {
   "cell_type": "code",
   "execution_count": 12,
   "id": "08974232",
   "metadata": {
    "execution": {
     "iopub.execute_input": "2022-10-09T19:35:14.057256Z",
     "iopub.status.busy": "2022-10-09T19:35:14.056854Z",
     "iopub.status.idle": "2022-10-09T19:35:14.400231Z",
     "shell.execute_reply": "2022-10-09T19:35:14.398997Z"
    },
    "papermill": {
     "duration": 0.358294,
     "end_time": "2022-10-09T19:35:14.402709",
     "exception": false,
     "start_time": "2022-10-09T19:35:14.044415",
     "status": "completed"
    },
    "tags": []
   },
   "outputs": [
    {
     "data": {
      "application/javascript": [
       "parent.postMessage({\"jupyterEvent\": \"custom.exercise_interaction\", \"data\": {\"outcomeType\": 1, \"valueTowardsCompletion\": 0.3333333333333333, \"interactionType\": 1, \"questionType\": 2, \"questionId\": \"4.1_PlotBlueReg\", \"learnToolsVersion\": \"0.3.4\", \"failureMessage\": \"\", \"exceptionClass\": \"\", \"trace\": \"\"}}, \"*\")"
      ],
      "text/plain": [
       "<IPython.core.display.Javascript object>"
      ]
     },
     "metadata": {},
     "output_type": "display_data"
    },
    {
     "data": {
      "text/markdown": [
       "<span style=\"color:#33cc33\">Correct</span>"
      ],
      "text/plain": [
       "Correct"
      ]
     },
     "metadata": {},
     "output_type": "display_data"
    },
    {
     "data": {
      "image/png": "[encoded data removed]",
      "text/plain": [
       "<Figure size 432x288 with 1 Axes>"
      ]
     },
     "metadata": {
      "needs_background": "light"
     },
     "output_type": "display_data"
    }
   ],
   "source": [
    "# Scatter plot w/ regression line showing the relationship between 'sugarpercent' and 'winpercent'\n",
    "sns.regplot(x=candy_data['sugarpercent'], y=candy_data['winpercent'])\n",
    "# Your code here\n",
    "\n",
    "# Check your answer\n",
    "step_4.a.check()"
   ]
  },
  {
   "cell_type": "code",
   "execution_count": 13,
   "id": "19bcecf4",
   "metadata": {
    "execution": {
     "iopub.execute_input": "2022-10-09T19:35:14.426669Z",
     "iopub.status.busy": "2022-10-09T19:35:14.426301Z",
     "iopub.status.idle": "2022-10-09T19:35:14.431024Z",
     "shell.execute_reply": "2022-10-09T19:35:14.429854Z"
    },
    "papermill": {
     "duration": 0.019644,
     "end_time": "2022-10-09T19:35:14.433642",
     "exception": false,
     "start_time": "2022-10-09T19:35:14.413998",
     "status": "completed"
    },
    "tags": []
   },
   "outputs": [],
   "source": [
    "# Lines below will give you a hint or solution code\n",
    "#step_4.a.hint()\n",
    "#step_4.a.solution_plot()"
   ]
  },
  {
   "cell_type": "markdown",
   "id": "36b0a4be",
   "metadata": {
    "papermill": {
     "duration": 0.010914,
     "end_time": "2022-10-09T19:35:14.456392",
     "exception": false,
     "start_time": "2022-10-09T19:35:14.445478",
     "status": "completed"
    },
    "tags": []
   },
   "source": [
    "#### Part B\n",
    "\n",
    "According to the plot above, is there a **slight** correlation between `'winpercent'` and `'sugarpercent'`?  What does this tell you about the candy that people tend to prefer?"
   ]
  },
  {
   "cell_type": "code",
   "execution_count": 14,
   "id": "f99f48f6",
   "metadata": {
    "execution": {
     "iopub.execute_input": "2022-10-09T19:35:14.480551Z",
     "iopub.status.busy": "2022-10-09T19:35:14.480138Z",
     "iopub.status.idle": "2022-10-09T19:35:14.484944Z",
     "shell.execute_reply": "2022-10-09T19:35:14.483805Z"
    },
    "papermill": {
     "duration": 0.019733,
     "end_time": "2022-10-09T19:35:14.487275",
     "exception": false,
     "start_time": "2022-10-09T19:35:14.467542",
     "status": "completed"
    },
    "tags": []
   },
   "outputs": [],
   "source": [
    "#step_4.b.hint()"
   ]
  },
  {
   "cell_type": "code",
   "execution_count": 15,
   "id": "dbcc3575",
   "metadata": {
    "execution": {
     "iopub.execute_input": "2022-10-09T19:35:14.511075Z",
     "iopub.status.busy": "2022-10-09T19:35:14.510673Z",
     "iopub.status.idle": "2022-10-09T19:35:14.520238Z",
     "shell.execute_reply": "2022-10-09T19:35:14.519066Z"
    },
    "papermill": {
     "duration": 0.024478,
     "end_time": "2022-10-09T19:35:14.522711",
     "exception": false,
     "start_time": "2022-10-09T19:35:14.498233",
     "status": "completed"
    },
    "tags": []
   },
   "outputs": [
    {
     "data": {
      "application/javascript": [
       "parent.postMessage({\"jupyterEvent\": \"custom.exercise_interaction\", \"data\": {\"interactionType\": 3, \"questionType\": 4, \"questionId\": \"4.2_ThinkBlueReg\", \"learnToolsVersion\": \"0.3.4\", \"valueTowardsCompletion\": 0.0, \"failureMessage\": \"\", \"exceptionClass\": \"\", \"trace\": \"\", \"outcomeType\": 4}}, \"*\")"
      ],
      "text/plain": [
       "<IPython.core.display.Javascript object>"
      ]
     },
     "metadata": {},
     "output_type": "display_data"
    },
    {
     "data": {
      "text/markdown": [
       "<span style=\"color:#33cc99\">Solution:</span> Since the regression line has a slightly positive slope, this tells us that there is a slightly positive correlation between `'winpercent'` and `'sugarpercent'`. Thus, people have a slight preference for candies containing relatively more sugar."
      ],
      "text/plain": [
       "Solution: Since the regression line has a slightly positive slope, this tells us that there is a slightly positive correlation between `'winpercent'` and `'sugarpercent'`. Thus, people have a slight preference for candies containing relatively more sugar."
      ]
     },
     "metadata": {},
     "output_type": "display_data"
    }
   ],
   "source": [
    "# Check your answer (Run this code cell to receive credit!)\n",
    "step_4.b.solution()"
   ]
  },
  {
   "cell_type": "markdown",
   "id": "df112391",
   "metadata": {
    "papermill": {
     "duration": 0.01056,
     "end_time": "2022-10-09T19:35:14.544409",
     "exception": false,
     "start_time": "2022-10-09T19:35:14.533849",
     "status": "completed"
    },
    "tags": []
   },
   "source": [
    "## Step 5: Chocolate!\n",
    "\n",
    "In the code cell below, create a scatter plot to show the relationship between `'pricepercent'` (on the horizontal x-axis) and `'winpercent'` (on the vertical y-axis). Use the `'chocolate'` column to color-code the points.  _Don't add any regression lines just yet -- you'll do that in the next step!_"
   ]
  },
  {
   "cell_type": "code",
   "execution_count": 16,
   "id": "cf8f7121",
   "metadata": {
    "execution": {
     "iopub.execute_input": "2022-10-09T19:35:14.568153Z",
     "iopub.status.busy": "2022-10-09T19:35:14.567741Z",
     "iopub.status.idle": "2022-10-09T19:35:14.890292Z",
     "shell.execute_reply": "2022-10-09T19:35:14.889203Z"
    },
    "papermill": {
     "duration": 0.337154,
     "end_time": "2022-10-09T19:35:14.892682",
     "exception": false,
     "start_time": "2022-10-09T19:35:14.555528",
     "status": "completed"
    },
    "tags": []
   },
   "outputs": [
    {
     "data": {
      "application/javascript": [
       "parent.postMessage({\"jupyterEvent\": \"custom.exercise_interaction\", \"data\": {\"outcomeType\": 1, \"valueTowardsCompletion\": 0.3333333333333333, \"interactionType\": 1, \"questionType\": 2, \"questionId\": \"5_ColorScatter\", \"learnToolsVersion\": \"0.3.4\", \"failureMessage\": \"\", \"exceptionClass\": \"\", \"trace\": \"\"}}, \"*\")"
      ],
      "text/plain": [
       "<IPython.core.display.Javascript object>"
      ]
     },
     "metadata": {},
     "output_type": "display_data"
    },
    {
     "data": {
      "text/markdown": [
       "<span style=\"color:#33cc33\">Correct</span>"
      ],
      "text/plain": [
       "Correct"
      ]
     },
     "metadata": {},
     "output_type": "display_data"
    },
    {
     "data": {
      "image/png": "[encoded data removed]",
      "text/plain": [
       "<Figure size 432x288 with 1 Axes>"
      ]
     },
     "metadata": {
      "needs_background": "light"
     },
     "output_type": "display_data"
    }
   ],
   "source": [
    "# Scatter plot showing the relationship between 'pricepercent', 'winpercent', and 'chocolate'\n",
    "sns.scatterplot(x='pricepercent', y='winpercent', hue='chocolate', data=candy_data)\n",
    "# Your code here\n",
    "\n",
    "# Check your answer\n",
    "step_5.check()"
   ]
  },
  {
   "cell_type": "code",
   "execution_count": 17,
   "id": "4bc47856",
   "metadata": {
    "execution": {
     "iopub.execute_input": "2022-10-09T19:35:14.917780Z",
     "iopub.status.busy": "2022-10-09T19:35:14.917362Z",
     "iopub.status.idle": "2022-10-09T19:35:14.921735Z",
     "shell.execute_reply": "2022-10-09T19:35:14.920566Z"
    },
    "papermill": {
     "duration": 0.019338,
     "end_time": "2022-10-09T19:35:14.923898",
     "exception": false,
     "start_time": "2022-10-09T19:35:14.904560",
     "status": "completed"
    },
    "tags": []
   },
   "outputs": [],
   "source": [
    "# Lines below will give you a hint or solution code\n",
    "#step_5.hint()\n",
    "#step_5.solution_plot()"
   ]
  },
  {
   "cell_type": "markdown",
   "id": "b7be810b",
   "metadata": {
    "papermill": {
     "duration": 0.011235,
     "end_time": "2022-10-09T19:35:14.946718",
     "exception": false,
     "start_time": "2022-10-09T19:35:14.935483",
     "status": "completed"
    },
    "tags": []
   },
   "source": [
    "Can you see any interesting patterns in the scatter plot?  We'll investigate this plot further  by adding regression lines in the next step!\n",
    "\n",
    "## Step 6: Investigate chocolate\n",
    "\n",
    "#### Part A\n",
    "\n",
    "Create the same scatter plot you created in **Step 5**, but now with two regression lines, corresponding to (1) chocolate candies and (2) candies without chocolate."
   ]
  },
  {
   "cell_type": "code",
   "execution_count": 18,
   "id": "8a31b021",
   "metadata": {
    "execution": {
     "iopub.execute_input": "2022-10-09T19:35:14.972379Z",
     "iopub.status.busy": "2022-10-09T19:35:14.971099Z",
     "iopub.status.idle": "2022-10-09T19:35:15.627578Z",
     "shell.execute_reply": "2022-10-09T19:35:15.626695Z"
    },
    "papermill": {
     "duration": 0.671707,
     "end_time": "2022-10-09T19:35:15.629892",
     "exception": false,
     "start_time": "2022-10-09T19:35:14.958185",
     "status": "completed"
    },
    "tags": []
   },
   "outputs": [
    {
     "data": {
      "application/javascript": [
       "parent.postMessage({\"jupyterEvent\": \"custom.exercise_interaction\", \"data\": {\"outcomeType\": 1, \"valueTowardsCompletion\": 0.3333333333333333, \"interactionType\": 1, \"questionType\": 2, \"questionId\": \"6.1_PlotColorReg\", \"learnToolsVersion\": \"0.3.4\", \"failureMessage\": \"\", \"exceptionClass\": \"\", \"trace\": \"\"}}, \"*\")"
      ],
      "text/plain": [
       "<IPython.core.display.Javascript object>"
      ]
     },
     "metadata": {},
     "output_type": "display_data"
    },
    {
     "data": {
      "text/markdown": [
       "<span style=\"color:#33cc33\">Correct</span>"
      ],
      "text/plain": [
       "Correct"
      ]
     },
     "metadata": {},
     "output_type": "display_data"
    },
    {
     "data": {
      "image/png": "[encoded data removed]",
      "text/plain": [
       "<Figure size 416.375x360 with 1 Axes>"
      ]
     },
     "metadata": {
      "needs_background": "light"
     },
     "output_type": "display_data"
    }
   ],
   "source": [
    "# Color-coded scatter plot w/ regression lines\n",
    "sns.lmplot(x='pricepercent', y='winpercent', hue='chocolate', data=candy_data)\n",
    "# Your code here\n",
    "\n",
    "# Check your answer\n",
    "step_6.a.check()"
   ]
  },
  {
   "cell_type": "code",
   "execution_count": 19,
   "id": "3dfd19c3",
   "metadata": {
    "execution": {
     "iopub.execute_input": "2022-10-09T19:35:15.658093Z",
     "iopub.status.busy": "2022-10-09T19:35:15.656960Z",
     "iopub.status.idle": "2022-10-09T19:35:15.662680Z",
     "shell.execute_reply": "2022-10-09T19:35:15.661371Z"
    },
    "papermill": {
     "duration": 0.022335,
     "end_time": "2022-10-09T19:35:15.664992",
     "exception": false,
     "start_time": "2022-10-09T19:35:15.642657",
     "status": "completed"
    },
    "tags": []
   },
   "outputs": [],
   "source": [
    "# Lines below will give you a hint or solution code\n",
    "#step_6.a.hint()\n",
    "#step_6.a.solution_plot()"
   ]
  },
  {
   "cell_type": "markdown",
   "id": "53583118",
   "metadata": {
    "papermill": {
     "duration": 0.012308,
     "end_time": "2022-10-09T19:35:15.689717",
     "exception": false,
     "start_time": "2022-10-09T19:35:15.677409",
     "status": "completed"
    },
    "tags": []
   },
   "source": [
    "#### Part B\n",
    "\n",
    "Using the regression lines, what conclusions can you draw about the effects of chocolate and price on candy popularity?"
   ]
  },
  {
   "cell_type": "code",
   "execution_count": 20,
   "id": "3169d946",
   "metadata": {
    "execution": {
     "iopub.execute_input": "2022-10-09T19:35:15.716615Z",
     "iopub.status.busy": "2022-10-09T19:35:15.715637Z",
     "iopub.status.idle": "2022-10-09T19:35:15.720396Z",
     "shell.execute_reply": "2022-10-09T19:35:15.719342Z"
    },
    "papermill": {
     "duration": 0.020707,
     "end_time": "2022-10-09T19:35:15.722867",
     "exception": false,
     "start_time": "2022-10-09T19:35:15.702160",
     "status": "completed"
    },
    "tags": []
   },
   "outputs": [],
   "source": [
    "#step_6.b.hint()"
   ]
  },
  {
   "cell_type": "code",
   "execution_count": 21,
   "id": "a0442d1b",
   "metadata": {
    "execution": {
     "iopub.execute_input": "2022-10-09T19:35:15.749997Z",
     "iopub.status.busy": "2022-10-09T19:35:15.749566Z",
     "iopub.status.idle": "2022-10-09T19:35:15.758615Z",
     "shell.execute_reply": "2022-10-09T19:35:15.757473Z"
    },
    "papermill": {
     "duration": 0.025744,
     "end_time": "2022-10-09T19:35:15.761118",
     "exception": false,
     "start_time": "2022-10-09T19:35:15.735374",
     "status": "completed"
    },
    "tags": []
   },
   "outputs": [
    {
     "data": {
      "application/javascript": [
       "parent.postMessage({\"jupyterEvent\": \"custom.exercise_interaction\", \"data\": {\"interactionType\": 3, \"questionType\": 4, \"questionId\": \"6.2_ThinkColorReg\", \"learnToolsVersion\": \"0.3.4\", \"valueTowardsCompletion\": 0.0, \"failureMessage\": \"\", \"exceptionClass\": \"\", \"trace\": \"\", \"outcomeType\": 4}}, \"*\")"
      ],
      "text/plain": [
       "<IPython.core.display.Javascript object>"
      ]
     },
     "metadata": {},
     "output_type": "display_data"
    },
    {
     "data": {
      "text/markdown": [
       "<span style=\"color:#33cc99\">Solution:</span> We'll begin with the regression line for chocolate candies. Since this line has a slightly positive slope, we can say that more expensive chocolate candies tend to be more popular (than relatively cheaper chocolate candies).  Likewise, since the regression line for candies without chocolate has a negative slope, we can say that if candies don't contain chocolate, they tend to be more popular when they are cheaper.  One important note, however, is that the dataset is quite small -- so we shouldn't invest too much trust in these patterns!  To inspire more confidence in the results, we should add more candies to the dataset."
      ],
      "text/plain": [
       "Solution: We'll begin with the regression line for chocolate candies. Since this line has a slightly positive slope, we can say that more expensive chocolate candies tend to be more popular (than relatively cheaper chocolate candies).  Likewise, since the regression line for candies without chocolate has a negative slope, we can say that if candies don't contain chocolate, they tend to be more popular when they are cheaper.  One important note, however, is that the dataset is quite small -- so we shouldn't invest too much trust in these patterns!  To inspire more confidence in the results, we should add more candies to the dataset."
      ]
     },
     "metadata": {},
     "output_type": "display_data"
    }
   ],
   "source": [
    "# Check your answer (Run this code cell to receive credit!)\n",
    "step_6.b.solution()"
   ]
  },
  {
   "cell_type": "markdown",
   "id": "50b27490",
   "metadata": {
    "papermill": {
     "duration": 0.012158,
     "end_time": "2022-10-09T19:35:15.785798",
     "exception": false,
     "start_time": "2022-10-09T19:35:15.773640",
     "status": "completed"
    },
    "tags": []
   },
   "source": [
    "## Step 7: Everybody loves chocolate.\n",
    "\n",
    "#### Part A\n",
    "\n",
    "Create a categorical scatter plot to highlight the relationship between `'chocolate'` and `'winpercent'`.  Put `'chocolate'` on the (horizontal) x-axis, and `'winpercent'` on the (vertical) y-axis."
   ]
  },
  {
   "cell_type": "code",
   "execution_count": 22,
   "id": "aca46169",
   "metadata": {
    "execution": {
     "iopub.execute_input": "2022-10-09T19:35:15.812995Z",
     "iopub.status.busy": "2022-10-09T19:35:15.812586Z",
     "iopub.status.idle": "2022-10-09T19:35:16.051192Z",
     "shell.execute_reply": "2022-10-09T19:35:16.049757Z"
    },
    "papermill": {
     "duration": 0.255139,
     "end_time": "2022-10-09T19:35:16.054068",
     "exception": false,
     "start_time": "2022-10-09T19:35:15.798929",
     "status": "completed"
    },
    "tags": []
   },
   "outputs": [
    {
     "data": {
      "application/javascript": [
       "parent.postMessage({\"jupyterEvent\": \"custom.exercise_interaction\", \"data\": {\"outcomeType\": 1, \"valueTowardsCompletion\": 0.3333333333333333, \"interactionType\": 1, \"questionType\": 2, \"questionId\": \"7.1_PlotSwarm\", \"learnToolsVersion\": \"0.3.4\", \"failureMessage\": \"\", \"exceptionClass\": \"\", \"trace\": \"\"}}, \"*\")"
      ],
      "text/plain": [
       "<IPython.core.display.Javascript object>"
      ]
     },
     "metadata": {},
     "output_type": "display_data"
    },
    {
     "data": {
      "text/markdown": [
       "<span style=\"color:#33cc33\">Correct</span>"
      ],
      "text/plain": [
       "Correct"
      ]
     },
     "metadata": {},
     "output_type": "display_data"
    },
    {
     "data": {
      "image/png": "[encoded data removed]",
      "text/plain": [
       "<Figure size 432x288 with 1 Axes>"
      ]
     },
     "metadata": {
      "needs_background": "light"
     },
     "output_type": "display_data"
    }
   ],
   "source": [
    "# Scatter plot showing the relationship between 'chocolate' and 'winpercent'\n",
    "sns.swarmplot(x=\"chocolate\", y=\"winpercent\", data=candy_data)\n",
    "# Your code here\n",
    "\n",
    "# Check your answer\n",
    "step_7.a.check()"
   ]
  },
  {
   "cell_type": "code",
   "execution_count": 23,
   "id": "21a673bd",
   "metadata": {
    "execution": {
     "iopub.execute_input": "2022-10-09T19:35:16.082914Z",
     "iopub.status.busy": "2022-10-09T19:35:16.082502Z",
     "iopub.status.idle": "2022-10-09T19:35:16.087997Z",
     "shell.execute_reply": "2022-10-09T19:35:16.086562Z"
    },
    "papermill": {
     "duration": 0.022698,
     "end_time": "2022-10-09T19:35:16.090573",
     "exception": false,
     "start_time": "2022-10-09T19:35:16.067875",
     "status": "completed"
    },
    "tags": []
   },
   "outputs": [],
   "source": [
    "# Lines below will give you a hint or solution code\n",
    "#step_7.a.hint()\n",
    "#step_7.a.solution_plot()"
   ]
  },
  {
   "cell_type": "markdown",
   "id": "32dd8fff",
   "metadata": {
    "papermill": {
     "duration": 0.013061,
     "end_time": "2022-10-09T19:35:16.116940",
     "exception": false,
     "start_time": "2022-10-09T19:35:16.103879",
     "status": "completed"
    },
    "tags": []
   },
   "source": [
    "#### Part B\n",
    "\n",
    "You decide to dedicate a section of your report to the fact that chocolate candies tend to be more popular than candies without chocolate.  Which plot is more appropriate to tell this story: the plot from **Step 6**, or the plot from **Step 7**?"
   ]
  },
  {
   "cell_type": "code",
   "execution_count": 24,
   "id": "060bcef2",
   "metadata": {
    "execution": {
     "iopub.execute_input": "2022-10-09T19:35:16.146222Z",
     "iopub.status.busy": "2022-10-09T19:35:16.145761Z",
     "iopub.status.idle": "2022-10-09T19:35:16.150835Z",
     "shell.execute_reply": "2022-10-09T19:35:16.149659Z"
    },
    "papermill": {
     "duration": 0.022763,
     "end_time": "2022-10-09T19:35:16.153251",
     "exception": false,
     "start_time": "2022-10-09T19:35:16.130488",
     "status": "completed"
    },
    "tags": []
   },
   "outputs": [],
   "source": [
    "#step_7.b.hint()"
   ]
  },
  {
   "cell_type": "code",
   "execution_count": 25,
   "id": "a4bb7141",
   "metadata": {
    "execution": {
     "iopub.execute_input": "2022-10-09T19:35:16.183726Z",
     "iopub.status.busy": "2022-10-09T19:35:16.183345Z",
     "iopub.status.idle": "2022-10-09T19:35:16.192372Z",
     "shell.execute_reply": "2022-10-09T19:35:16.190950Z"
    },
    "papermill": {
     "duration": 0.028523,
     "end_time": "2022-10-09T19:35:16.194894",
     "exception": false,
     "start_time": "2022-10-09T19:35:16.166371",
     "status": "completed"
    },
    "tags": []
   },
   "outputs": [
    {
     "data": {
      "application/javascript": [
       "parent.postMessage({\"jupyterEvent\": \"custom.exercise_interaction\", \"data\": {\"interactionType\": 3, \"questionType\": 4, \"questionId\": \"7.2_ThinkSwarm\", \"learnToolsVersion\": \"0.3.4\", \"valueTowardsCompletion\": 0.0, \"failureMessage\": \"\", \"exceptionClass\": \"\", \"trace\": \"\", \"outcomeType\": 4}}, \"*\")"
      ],
      "text/plain": [
       "<IPython.core.display.Javascript object>"
      ]
     },
     "metadata": {},
     "output_type": "display_data"
    },
    {
     "data": {
      "text/markdown": [
       "<span style=\"color:#33cc99\">Solution:</span> In this case, the categorical scatter plot from **Step 7** is the more appropriate plot. While both plots tell the desired story, the plot from **Step 6** conveys far more information that could distract from the main point."
      ],
      "text/plain": [
       "Solution: In this case, the categorical scatter plot from **Step 7** is the more appropriate plot. While both plots tell the desired story, the plot from **Step 6** conveys far more information that could distract from the main point."
      ]
     },
     "metadata": {},
     "output_type": "display_data"
    }
   ],
   "source": [
    "# Check your answer (Run this code cell to receive credit!)\n",
    "step_7.b.solution()"
   ]
  },
  {
   "cell_type": "markdown",
   "id": "925a054d",
   "metadata": {
    "papermill": {
     "duration": 0.013308,
     "end_time": "2022-10-09T19:35:16.222401",
     "exception": false,
     "start_time": "2022-10-09T19:35:16.209093",
     "status": "completed"
    },
    "tags": []
   },
   "source": [
    "## Keep going\n",
    "\n",
    "Explore **[histograms and density plots](https://www.kaggle.com/alexisbcook/distributions)**."
   ]
  },
  {
   "cell_type": "markdown",
   "id": "0b1f4f12",
   "metadata": {
    "papermill": {
     "duration": 0.01425,
     "end_time": "2022-10-09T19:35:16.251166",
     "exception": false,
     "start_time": "2022-10-09T19:35:16.236916",
     "status": "completed"
    },
    "tags": []
   },
   "source": [
    "---\n",
    "\n",
    "\n",
    "\n",
    "\n",
    "*Have questions or comments? Visit the [course discussion forum](https://www.kaggle.com/learn/data-visualization/discussion) to chat with other learners.*"
   ]
  }
 ],
 "metadata": {
  "kernelspec": {
   "display_name": "Python 3",
   "language": "python",
   "name": "python3"
  },
  "language_info": {
   "codemirror_mode": {
    "name": "ipython",
    "version": 3
   },
   "file_extension": ".py",
   "mimetype": "text/x-python",
   "name": "python",
   "nbconvert_exporter": "python",
   "pygments_lexer": "ipython3",
   "version": "3.7.12"
  },
  "papermill": {
   "default_parameters": {},
   "duration": 15.022479,
   "end_time": "2022-10-09T19:35:17.087999",
   "environment_variables": {},
   "exception": null,
   "input_path": "__notebook__.ipynb",
   "output_path": "__notebook__.ipynb",
   "parameters": {},
   "start_time": "2022-10-09T19:35:02.065520",
   "version": "2.3.4"
  }
 },
 "nbformat": 4,
 "nbformat_minor": 5
}
